{
 "cells": [
  {
   "cell_type": "markdown",
   "metadata": {},
   "source": [
    " importing numpy & pandas:"
   ]
  },
  {
   "cell_type": "code",
   "execution_count": 1,
   "metadata": {},
   "outputs": [],
   "source": [
    "import numpy as np \n",
    "import pandas as pd"
   ]
  },
  {
   "cell_type": "markdown",
   "metadata": {},
   "source": [
    "loading the data & removing irrelevent stuff"
   ]
  },
  {
   "cell_type": "code",
   "execution_count": 2,
   "metadata": {},
   "outputs": [],
   "source": [
    "data = pd.read_csv(\"text_emotion.csv\")\n",
    "\n",
    "data.drop(\"tweet_id\",axis=1,inplace=True)\n",
    "data.drop(\"author\",axis=1,inplace=True)"
   ]
  },
  {
   "cell_type": "markdown",
   "metadata": {},
   "source": [
    "----"
   ]
  },
  {
   "cell_type": "raw",
   "metadata": {},
   "source": [
    "\n",
    "\n",
    "removing empty sentiments\n",
    "\n",
    "    As no roll of empty sentiments for our model\n",
    "    \n",
    "    \n",
    "    \n",
    "removing neutral sentiments\n",
    "\n",
    "    As data corresponging to neutral sentiments have lots of error it's better to remove such data\n",
    "        for e.g.:\n",
    "                for content \"im saaaaaaaaaaaaaad  i need someone to talk to\" \n",
    "                sentiment should be sad but it's given neutral \n",
    "    \n",
    " "
   ]
  },
  {
   "cell_type": "code",
   "execution_count": 3,
   "metadata": {},
   "outputs": [
    {
     "name": "stdout",
     "output_type": "stream",
     "text": [
      "(30535, 2)\n"
     ]
    },
    {
     "data": {
      "text/html": [
       "<div>\n",
       "<style scoped>\n",
       "    .dataframe tbody tr th:only-of-type {\n",
       "        vertical-align: middle;\n",
       "    }\n",
       "\n",
       "    .dataframe tbody tr th {\n",
       "        vertical-align: top;\n",
       "    }\n",
       "\n",
       "    .dataframe thead th {\n",
       "        text-align: right;\n",
       "    }\n",
       "</style>\n",
       "<table border=\"1\" class=\"dataframe\">\n",
       "  <thead>\n",
       "    <tr style=\"text-align: right;\">\n",
       "      <th></th>\n",
       "      <th>sentiment</th>\n",
       "      <th>content</th>\n",
       "    </tr>\n",
       "  </thead>\n",
       "  <tbody>\n",
       "    <tr>\n",
       "      <th>0</th>\n",
       "      <td>happiness</td>\n",
       "      <td>@havingmysay  dude, that is my favorite sandwi...</td>\n",
       "    </tr>\n",
       "    <tr>\n",
       "      <th>2</th>\n",
       "      <td>hate</td>\n",
       "      <td>don't you hate it when you finish all your wor...</td>\n",
       "    </tr>\n",
       "    <tr>\n",
       "      <th>3</th>\n",
       "      <td>sadness</td>\n",
       "      <td>Layin n bed with a headache  ughhhh...waitin o...</td>\n",
       "    </tr>\n",
       "    <tr>\n",
       "      <th>4</th>\n",
       "      <td>worry</td>\n",
       "      <td>So i think my son might have the flu cause I d...</td>\n",
       "    </tr>\n",
       "    <tr>\n",
       "      <th>5</th>\n",
       "      <td>happiness</td>\n",
       "      <td>So great to see Oin &amp;amp; Cynthia.  So happy. ...</td>\n",
       "    </tr>\n",
       "  </tbody>\n",
       "</table>\n",
       "</div>"
      ],
      "text/plain": [
       "   sentiment                                            content\n",
       "0  happiness  @havingmysay  dude, that is my favorite sandwi...\n",
       "2       hate  don't you hate it when you finish all your wor...\n",
       "3    sadness  Layin n bed with a headache  ughhhh...waitin o...\n",
       "4      worry  So i think my son might have the flu cause I d...\n",
       "5  happiness  So great to see Oin &amp; Cynthia.  So happy. ..."
      ]
     },
     "execution_count": 3,
     "metadata": {},
     "output_type": "execute_result"
    }
   ],
   "source": [
    "data.drop(data[data[\"sentiment\"] == \"empty\"].index, inplace=True)\n",
    "data.drop(data[data[\"sentiment\"] == \"neutral\"].index, inplace=True)\n",
    "\n",
    "print(data.shape)\n",
    "data.head()"
   ]
  },
  {
   "cell_type": "code",
   "execution_count": 4,
   "metadata": {},
   "outputs": [
    {
     "data": {
      "text/plain": [
       "sentiment\n",
       "anger          110\n",
       "boredom        179\n",
       "enthusiasm     759\n",
       "fun           1776\n",
       "happiness     5209\n",
       "hate          1323\n",
       "love          3842\n",
       "relief        1526\n",
       "sadness       5165\n",
       "surprise      2187\n",
       "worry         8459\n",
       "dtype: int64"
      ]
     },
     "execution_count": 4,
     "metadata": {},
     "output_type": "execute_result"
    }
   ],
   "source": [
    "data.groupby(['sentiment']).size()"
   ]
  },
  {
   "cell_type": "markdown",
   "metadata": {},
   "source": [
    "importing libraries for preprocessing of data"
   ]
  },
  {
   "cell_type": "code",
   "execution_count": 5,
   "metadata": {},
   "outputs": [],
   "source": [
    "import re\n",
    "import nltk\n",
    "# nltk.download('punkt')\n",
    "# nltk.download('stopwords')\n",
    "import emoji\n",
    "import string\n",
    "from nltk.tokenize import word_tokenize\n",
    "from nltk.corpus import stopwords\n",
    "from nltk.stem.porter import PorterStemmer"
   ]
  },
  {
   "cell_type": "markdown",
   "metadata": {},
   "source": [
    "----"
   ]
  },
  {
   "cell_type": "raw",
   "metadata": {},
   "source": [
    "here data cleaning & preprocessing is being done\n",
    "\n",
    "    1. removing web links\n",
    "    2. replacing emojis (removing emojis is reducing the accuracy)\n",
    "    3. removing some of sort forms\n",
    "    4. removing punctuation marks\n",
    "    5. removing stop words (NO : reducing the accuracy )"
   ]
  },
  {
   "cell_type": "code",
   "execution_count": 6,
   "metadata": {},
   "outputs": [
    {
     "data": {
      "text/plain": [
       "['NAME dude that is my favorite sandwich place ever ummm did you take pictures',\n",
       " 'do not you hate it when you finish all your work and there s still hours left of work time',\n",
       " 'layin n bed with a headache ughhhhwaitin on your call',\n",
       " 'so i think my son might have the flu cause i def just cleaned up a stanky puke mess poor pumkpin',\n",
       " 'so great to see oin amp cynthia so happy dinner was great cute little place too bad oin got sick afterwards']"
      ]
     },
     "execution_count": 6,
     "metadata": {},
     "output_type": "execute_result"
    }
   ],
   "source": [
    "def clean_text(df):\n",
    "    all_reviews = list()\n",
    "    lines = df[\"content\"].values.tolist()\n",
    "    for text in lines:\n",
    "        text = text.lower()\n",
    "#         text = emoji.demojize(text)\n",
    "        pattern = re.compile('http[s]?://(?:[a-zA-Z]|[0-9]|[$-_@.&+]|[!*\\(\\),]|(?:%[0-9a-fA-F][0-9a-fA-F]))+')\n",
    "        text = pattern.sub('URL', text)\n",
    "        \n",
    "        emoji = re.compile(\"[\"\n",
    "                           u\"\\U0001F600-\\U0001FFFF\"  # emoticons\n",
    "                           u\"\\U0001F300-\\U0001F5FF\"  # symbols & pictographs\n",
    "                           u\"\\U0001F680-\\U0001F6FF\"  # transport & map symbols\n",
    "                           u\"\\U0001F1E0-\\U0001F1FF\"  # flags (iOS)\n",
    "                           u\"\\U00002702-\\U000027B0\"\n",
    "                           u\"\\U000024C2-\\U0001F251\"\n",
    "                           \"]+\", flags=re.UNICODE)\n",
    "        text = emoji.sub(r'emoji', text)\n",
    "        \n",
    "        text = re.sub(r\"i'm\", \"i am\", text)\n",
    "        text = re.sub(r\"he's\", \"he is\", text)\n",
    "        text = re.sub(r\"she's\", \"she is\", text)\n",
    "        text = re.sub(r\"that's\", \"that is\", text)        \n",
    "        text = re.sub(r\"what's\", \"what is\", text)\n",
    "        text = re.sub(r\"where's\", \"where is\", text) \n",
    "        text = re.sub(r\"\\'ll\", \" will\", text)  \n",
    "        text = re.sub(r\"\\'ve\", \" have\", text)  \n",
    "        text = re.sub(r\"\\'re\", \" are\", text)\n",
    "        text = re.sub(r\"\\'d\", \" would\", text)\n",
    "        text = re.sub(r\"\\'ve\", \" have\", text)\n",
    "        text = re.sub(r\"won't\", \"will not\", text)\n",
    "        text = re.sub(r\"don't\", \"do not\", text)\n",
    "        text = re.sub(r\"did't\", \"did not\", text)\n",
    "        text = re.sub(r\"can't\", \"can not\", text)\n",
    "        text = re.sub(r\"it's\", \"it is\", text)\n",
    "        text = re.sub(r\"couldn't\", \"could not\", text)\n",
    "        text = re.sub(r\"have't\", \"have not\", text)\n",
    "        text = re.sub(r'@\\w+', 'NAME', text)\n",
    "        text = re.sub(r\"\\n't\", \" not\", text)\n",
    "        \n",
    "        text = re.sub(r\"[,.\\\"@#$%^&*(){}/;`~:<>+=-]\", \"\", text)\n",
    "        tokens = word_tokenize(text)\n",
    "        table = str.maketrans('', '', string.punctuation)\n",
    "        stripped = [w.translate(table) for w in tokens]\n",
    "        words = [word for word in stripped if word.isalpha()]\n",
    "#         \n",
    "#         stop_words = set(stopwords.words(\"english\"))\n",
    "#         stop_words.discard(\"not\")\n",
    "#         words = [w for w in words if not w in stop_words]\n",
    "        \n",
    "        words = ' '.join(words)\n",
    "        all_reviews.append(words)\n",
    "    return all_reviews\n",
    "\n",
    "# df = pd.DataFrame([\"I'll suggest you to open https://www.google.com/ and search FUN game is on 🔥 🔥\"])\n",
    "# df.columns = [\"content\"]\n",
    "# cleaned_text = clean_text(df)\n",
    "# cleaned_text\n",
    "\n",
    "all_reviews = clean_text(data)\n",
    "all_reviews[0:5]"
   ]
  },
  {
   "cell_type": "code",
   "execution_count": 7,
   "metadata": {},
   "outputs": [
    {
     "data": {
      "text/html": [
       "<div>\n",
       "<style scoped>\n",
       "    .dataframe tbody tr th:only-of-type {\n",
       "        vertical-align: middle;\n",
       "    }\n",
       "\n",
       "    .dataframe tbody tr th {\n",
       "        vertical-align: top;\n",
       "    }\n",
       "\n",
       "    .dataframe thead th {\n",
       "        text-align: right;\n",
       "    }\n",
       "</style>\n",
       "<table border=\"1\" class=\"dataframe\">\n",
       "  <thead>\n",
       "    <tr style=\"text-align: right;\">\n",
       "      <th></th>\n",
       "      <th>sentiment</th>\n",
       "      <th>content</th>\n",
       "    </tr>\n",
       "  </thead>\n",
       "  <tbody>\n",
       "    <tr>\n",
       "      <th>0</th>\n",
       "      <td>happiness</td>\n",
       "      <td>@havingmysay  dude, that is my favorite sandwi...</td>\n",
       "    </tr>\n",
       "    <tr>\n",
       "      <th>2</th>\n",
       "      <td>hate</td>\n",
       "      <td>don't you hate it when you finish all your wor...</td>\n",
       "    </tr>\n",
       "    <tr>\n",
       "      <th>3</th>\n",
       "      <td>sadness</td>\n",
       "      <td>Layin n bed with a headache  ughhhh...waitin o...</td>\n",
       "    </tr>\n",
       "    <tr>\n",
       "      <th>4</th>\n",
       "      <td>worry</td>\n",
       "      <td>So i think my son might have the flu cause I d...</td>\n",
       "    </tr>\n",
       "    <tr>\n",
       "      <th>5</th>\n",
       "      <td>happiness</td>\n",
       "      <td>So great to see Oin &amp;amp; Cynthia.  So happy. ...</td>\n",
       "    </tr>\n",
       "  </tbody>\n",
       "</table>\n",
       "</div>"
      ],
      "text/plain": [
       "   sentiment                                            content\n",
       "0  happiness  @havingmysay  dude, that is my favorite sandwi...\n",
       "2       hate  don't you hate it when you finish all your wor...\n",
       "3    sadness  Layin n bed with a headache  ughhhh...waitin o...\n",
       "4      worry  So i think my son might have the flu cause I d...\n",
       "5  happiness  So great to see Oin &amp; Cynthia.  So happy. ..."
      ]
     },
     "execution_count": 7,
     "metadata": {},
     "output_type": "execute_result"
    }
   ],
   "source": [
    "data.head()"
   ]
  },
  {
   "cell_type": "markdown",
   "metadata": {},
   "source": [
    "----"
   ]
  },
  {
   "cell_type": "raw",
   "metadata": {},
   "source": [
    "Due to very small variations between some of emotions & some of error in data : (this improves accuracy)\n",
    "\n",
    "    it's better to combined such data\n",
    "    \n",
    "        e.g. \n",
    "             anger + boredom + hate = Disgust\n",
    "        "
   ]
  },
  {
   "cell_type": "code",
   "execution_count": 8,
   "metadata": {},
   "outputs": [
    {
     "data": {
      "text/html": [
       "<div>\n",
       "<style scoped>\n",
       "    .dataframe tbody tr th:only-of-type {\n",
       "        vertical-align: middle;\n",
       "    }\n",
       "\n",
       "    .dataframe tbody tr th {\n",
       "        vertical-align: top;\n",
       "    }\n",
       "\n",
       "    .dataframe thead th {\n",
       "        text-align: right;\n",
       "    }\n",
       "</style>\n",
       "<table border=\"1\" class=\"dataframe\">\n",
       "  <thead>\n",
       "    <tr style=\"text-align: right;\">\n",
       "      <th></th>\n",
       "      <th>sentiment</th>\n",
       "      <th>content</th>\n",
       "    </tr>\n",
       "  </thead>\n",
       "  <tbody>\n",
       "    <tr>\n",
       "      <th>0</th>\n",
       "      <td>7</td>\n",
       "      <td>@havingmysay  dude, that is my favorite sandwi...</td>\n",
       "    </tr>\n",
       "    <tr>\n",
       "      <th>2</th>\n",
       "      <td>1</td>\n",
       "      <td>don't you hate it when you finish all your wor...</td>\n",
       "    </tr>\n",
       "    <tr>\n",
       "      <th>3</th>\n",
       "      <td>10</td>\n",
       "      <td>Layin n bed with a headache  ughhhh...waitin o...</td>\n",
       "    </tr>\n",
       "    <tr>\n",
       "      <th>4</th>\n",
       "      <td>10</td>\n",
       "      <td>So i think my son might have the flu cause I d...</td>\n",
       "    </tr>\n",
       "    <tr>\n",
       "      <th>5</th>\n",
       "      <td>7</td>\n",
       "      <td>So great to see Oin &amp;amp; Cynthia.  So happy. ...</td>\n",
       "    </tr>\n",
       "  </tbody>\n",
       "</table>\n",
       "</div>"
      ],
      "text/plain": [
       "   sentiment                                            content\n",
       "0          7  @havingmysay  dude, that is my favorite sandwi...\n",
       "2          1  don't you hate it when you finish all your wor...\n",
       "3         10  Layin n bed with a headache  ughhhh...waitin o...\n",
       "4         10  So i think my son might have the flu cause I d...\n",
       "5          7  So great to see Oin &amp; Cynthia.  So happy. ..."
      ]
     },
     "execution_count": 8,
     "metadata": {},
     "output_type": "execute_result"
    }
   ],
   "source": [
    "# anger + boredom +hate = Disgust (1)\n",
    "# fun + enthusiasm + surprise = Interest (4)\n",
    "# relief + happiness + love= Happy (7)\n",
    "# worry + sadness = Sad(10)\n",
    "\n",
    "\n",
    "# neutral (REMOVED)\n",
    "\n",
    "\n",
    "encode = {\n",
    "    \"anger\": 1,\n",
    "    \"hate\":1, \n",
    "    \"boredom\":1,\n",
    "    \n",
    "    \"enthusiasm\":4,\n",
    "    \"fun\":4,\n",
    "    \"surprise\":4,\n",
    "    \n",
    "    \"happiness\":7,\n",
    "    \"relief\":7,\n",
    "    \"love\":7,\n",
    "\n",
    "    \"sadness\":10,\n",
    "    \"worry\":10,\n",
    "    \n",
    "    \"neutral\":12\n",
    "}\n",
    "data[\"sentiment\"] = data[\"sentiment\"].apply(lambda x:encode[x])\n",
    "data.head()"
   ]
  },
  {
   "cell_type": "markdown",
   "metadata": {},
   "source": [
    "it's time to vectorization"
   ]
  },
  {
   "cell_type": "code",
   "execution_count": 9,
   "metadata": {},
   "outputs": [
    {
     "name": "stdout",
     "output_type": "stream",
     "text": [
      "(30535, 3142)\n",
      "(30535,)\n"
     ]
    }
   ],
   "source": [
    "\n",
    "\n",
    "# from sklearn.feature_extraction.text import CountVectorizer\n",
    "# V = CountVectorizer(min_df = 8)   \n",
    "\n",
    "from sklearn.feature_extraction.text import TfidfVectorizer\n",
    "V = TfidfVectorizer(min_df = 8)\n",
    "\n",
    "X = V.fit_transform(all_reviews).toarray()\n",
    "\n",
    "import pickle\n",
    "pickle.dump(V,open(\"tfidf1.pkl\",\"wb\"))\n",
    "\n",
    "y = data[\"sentiment\"]\n",
    "print(np.shape(X))\n",
    "print(np.shape(y))"
   ]
  },
  {
   "cell_type": "markdown",
   "metadata": {},
   "source": [
    "----"
   ]
  },
  {
   "cell_type": "markdown",
   "metadata": {},
   "source": [
    "Here onwards different models and their accuracies are mentioned"
   ]
  },
  {
   "cell_type": "markdown",
   "metadata": {},
   "source": [
    "### DecisionTreeClassifier"
   ]
  },
  {
   "cell_type": "code",
   "execution_count": 10,
   "metadata": {},
   "outputs": [],
   "source": [
    "# from sklearn.model_selection import train_test_split\n",
    "# X_train, X_test, y_train, y_test = train_test_split(X, y, test_size = 0.22, random_state = 0)\n",
    "\n",
    "# from sklearn.tree import DecisionTreeClassifier\n",
    "# model = DecisionTreeClassifier(criterion=\"entropy\", random_state=41)\n",
    "\n",
    "\n",
    "# model.fit(X_train,y_train)\n",
    "\n",
    "# y_pred = model.predict(X_test)\n",
    "\n",
    "# from sklearn.metrics import accuracy_score, f1_score, precision_score\n",
    "\n",
    "# print(accuracy_score(y_test, y_pred))\n",
    "# print(f1_score(y_test, y_pred, average='weighted'))\n",
    "# print(precision_score(y_test, y_pred,average='weighted'))"
   ]
  },
  {
   "cell_type": "raw",
   "metadata": {},
   "source": [
    "DecisionTreeClassifier\n",
    "\n",
    "CountVectorizer\n",
    "    0.4901756475141411\n",
    "    0.4842023389421267\n",
    "    0.4791195973185888\n",
    "TfidfVectorizer\n",
    "    0.4778207799940459\n",
    "    0.4720412527120386\n",
    "    0.467047022372277"
   ]
  },
  {
   "cell_type": "markdown",
   "metadata": {},
   "source": [
    "### MultinomialNB"
   ]
  },
  {
   "cell_type": "code",
   "execution_count": 11,
   "metadata": {},
   "outputs": [],
   "source": [
    "# from sklearn.model_selection import train_test_split\n",
    "# X_train, X_test, y_train, y_test = train_test_split(X, y, test_size = 0.22, random_state = 0)\n",
    "\n",
    "\n",
    "# from sklearn.naive_bayes import MultinomialNB\n",
    "# model = MultinomialNB()\n",
    "\n",
    "# model.fit(X_train,y_train)\n",
    "\n",
    "# y_pred = model.predict(X_test)\n",
    "\n",
    "# from sklearn.metrics import accuracy_score, f1_score, precision_score\n",
    "\n",
    "# print(accuracy_score(y_test, y_pred))\n",
    "# print(f1_score(y_test, y_pred, average='weighted'))\n",
    "# print(precision_score(y_test, y_pred,average='weighted'))"
   ]
  },
  {
   "cell_type": "raw",
   "metadata": {},
   "source": [
    "MultinomialNB\n",
    "\n",
    "CountVectorizer\n",
    "    0.5913962488835963\n",
    "    0.5665193028603359\n",
    "    0.5577191344190713\n",
    "TfidfVectorizer\n",
    "    0.6019648704971717\n",
    "    0.5314850706524067\n",
    "    0.5123836343721758"
   ]
  },
  {
   "cell_type": "markdown",
   "metadata": {},
   "source": [
    "### LogisticRegression"
   ]
  },
  {
   "cell_type": "code",
   "execution_count": 12,
   "metadata": {},
   "outputs": [],
   "source": [
    "# from sklearn.model_selection import train_test_split\n",
    "# X_train, X_test, y_train, y_test = train_test_split(X, y, test_size = 0.22, random_state = 0)\n",
    "\n",
    "\n",
    "# from sklearn.linear_model import LogisticRegression \n",
    "# model = LogisticRegression(max_iter=1000000)\n",
    "\n",
    "# model.fit(X_train,y_train)\n",
    "\n",
    "# y_pred = model.predict(X_test)\n",
    "\n",
    "# from sklearn.metrics import accuracy_score, f1_score, precision_score\n",
    "\n",
    "# print(accuracy_score(y_test, y_pred))\n",
    "# print(f1_score(y_test, y_pred, average='weighted'))\n",
    "# print(precision_score(y_test, y_pred,average='weighted'))"
   ]
  },
  {
   "cell_type": "raw",
   "metadata": {},
   "source": [
    "LogisticRegression\n",
    "\n",
    "CountVectorizer\n",
    "    0.5949687406966359\n",
    "    0.5628047013642141\n",
    "    0.5530546186998219\n",
    "TfidfVectorizer\n",
    "    0.6122357844596606\n",
    "    0.5680690841913283\n",
    "    0.5778073438272063"
   ]
  },
  {
   "cell_type": "markdown",
   "metadata": {},
   "source": [
    "### SGDClassifier"
   ]
  },
  {
   "cell_type": "code",
   "execution_count": 13,
   "metadata": {},
   "outputs": [
    {
     "name": "stdout",
     "output_type": "stream",
     "text": [
      "0.615212860970527\n",
      "0.5575376617464947\n",
      "0.57281507640095\n"
     ]
    },
    {
     "data": {
      "text/plain": [
       "['emotion.joblib']"
      ]
     },
     "execution_count": 13,
     "metadata": {},
     "output_type": "execute_result"
    }
   ],
   "source": [
    "from sklearn.model_selection import train_test_split\n",
    "X_train, X_test, y_train, y_test = train_test_split(X, y, test_size = 0.22, random_state = 0)\n",
    "\n",
    "\n",
    "from sklearn.linear_model import SGDClassifier \n",
    "model = SGDClassifier()\n",
    "\n",
    "model.fit(X_train,y_train)\n",
    "\n",
    "y_pred = model.predict(X_test)\n",
    "\n",
    "from sklearn.metrics import accuracy_score, f1_score, precision_score\n",
    "\n",
    "print(accuracy_score(y_test, y_pred))\n",
    "print(f1_score(y_test, y_pred, average='weighted'))\n",
    "print(precision_score(y_test, y_pred,average='weighted'))\n",
    "\n",
    "from joblib import dump, load\n",
    "dump(model, 'emotion.joblib') "
   ]
  },
  {
   "cell_type": "raw",
   "metadata": {},
   "source": [
    "SGDClassifier\n",
    "\n",
    "CountVectorizer\n",
    "    0.6064304852634713\n",
    "    0.5629850601936482\n",
    "    0.5586409784503499\n",
    "TfidfVectorizer\n",
    "    0.6158082762727002\n",
    "    0.5503867710468437\n",
    "    0.5880493523520716"
   ]
  },
  {
   "cell_type": "markdown",
   "metadata": {},
   "source": [
    "----"
   ]
  },
  {
   "cell_type": "markdown",
   "metadata": {},
   "source": [
    "### Conclusion :"
   ]
  },
  {
   "cell_type": "raw",
   "metadata": {},
   "source": [
    "among all above ML models SGDClassifier seems to best for our data \n",
    "\n",
    "it gives results upto :\n",
    "\n",
    "    SGDClassifier\n",
    "\n",
    "        CountVectorizer \n",
    "        \n",
    "            accuracy_score  : 0.6064304852634713\n",
    "            f1_score        : 0.5629850601936482\n",
    "            precision_score : 0.5586409784503499\n",
    "            \n",
    "        TfidfVectorizer\n",
    "        \n",
    "            accuracy_score  : 0.6158082762727002\n",
    "            f1_score        : 0.5503867710468437\n",
    "            precision_score : 0.5880493523520716\n"
   ]
  },
  {
   "cell_type": "markdown",
   "metadata": {},
   "source": [
    "it's time to check our model:"
   ]
  },
  {
   "cell_type": "code",
   "execution_count": 15,
   "metadata": {},
   "outputs": [
    {
     "name": "stdout",
     "output_type": "stream",
     "text": [
      "Happy : happiness / love / relief\n"
     ]
    }
   ],
   "source": [
    "from joblib import dump, load\n",
    "import numpy as np\n",
    "model = load('emotion.joblib') \n",
    "\n",
    "import pickle\n",
    "V =  pickle.load(open(\"tfidf1.pkl\",\"rb\"))\n",
    "\n",
    "features = V.transform(['hurreeyyy.!!! i am feeling very happy after completing this project, I loved it']).toarray()\n",
    "\n",
    "mood = model.predict(features)[0]\n",
    "# anger + boredom +hate = Disgust (1)\n",
    "# fun + Enthu + surprise = Interest (4)\n",
    "# relief + happiness + love= Happy (7)\n",
    "# worry + sadness = Sad(10)\n",
    "\n",
    "\n",
    "if (mood == 1):\n",
    "    print(\"Disgust : anger / boredom / hate...\" )\n",
    "elif(mood == 4):\n",
    "    print(\"Interest : surprise / enthusiasm / fun\")\n",
    "elif(mood == 7):\n",
    "    print(\"Happy : happiness / love / relief\")\n",
    "else:\n",
    "    print(\"Sad : sadness / worry\")"
   ]
  },
  {
   "cell_type": "code",
   "execution_count": null,
   "metadata": {},
   "outputs": [],
   "source": []
  }
 ],
 "metadata": {
  "kernelspec": {
   "display_name": "Python 3.7.6 64-bit ('base': conda)",
   "language": "python",
   "name": "python37664bitbaseconda7b891e733012416988b91755aba8cd08"
  },
  "language_info": {
   "codemirror_mode": {
    "name": "ipython",
    "version": 3
   },
   "file_extension": ".py",
   "mimetype": "text/x-python",
   "name": "python",
   "nbconvert_exporter": "python",
   "pygments_lexer": "ipython3",
   "version": "3.7.7"
  }
 },
 "nbformat": 4,
 "nbformat_minor": 4
}
