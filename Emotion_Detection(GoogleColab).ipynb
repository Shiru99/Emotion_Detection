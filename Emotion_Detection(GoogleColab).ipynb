{
  "nbformat": 4,
  "nbformat_minor": 0,
  "metadata": {
    "colab": {
      "name": "Emotion_Detection.ipynb",
      "provenance": [],
      "collapsed_sections": []
    },
    "kernelspec": {
      "name": "python3",
      "display_name": "Python 3"
    }
  },
  "cells": [
    {
      "cell_type": "markdown",
      "metadata": {
        "id": "-hKIgyh3iZr2",
        "colab_type": "text"
      },
      "source": [
        "## ***Emotion Detection from text***"
      ]
    },
    {
      "cell_type": "markdown",
      "metadata": {
        "id": "8LhEEreYiNnO",
        "colab_type": "text"
      },
      "source": [
        "#### RIO-210: Automate detection of different emotions from paragraphs and predict overall emotion"
      ]
    },
    {
      "cell_type": "code",
      "metadata": {
        "id": "ZWSwQsFI1GQM",
        "colab_type": "code",
        "colab": {}
      },
      "source": [
        "import numpy as np \n",
        "import pandas as pd"
      ],
      "execution_count": 38,
      "outputs": []
    },
    {
      "cell_type": "code",
      "metadata": {
        "id": "Uo2YUZz4ipNH",
        "colab_type": "code",
        "colab": {
          "base_uri": "https://localhost:8080/",
          "height": 52
        },
        "outputId": "b669f4cf-f463-4847-c73f-17b01053742e"
      },
      "source": [
        "!ls"
      ],
      "execution_count": 39,
      "outputs": [
        {
          "output_type": "stream",
          "text": [
            " emotion.joblib  'text_emotion (1).csv'   tfidf1.pkl\n",
            " sample_data\t  text_emotion.csv\n"
          ],
          "name": "stdout"
        }
      ]
    },
    {
      "cell_type": "code",
      "metadata": {
        "id": "157FiCinZ9CV",
        "colab_type": "code",
        "colab": {}
      },
      "source": [
        "# from google.colab import files\n",
        "# uploaded = files.upload()"
      ],
      "execution_count": 40,
      "outputs": []
    },
    {
      "cell_type": "markdown",
      "metadata": {
        "id": "0-SteFskkdDc",
        "colab_type": "text"
      },
      "source": [
        "\n",
        "\n",
        "---\n",
        "\n"
      ]
    },
    {
      "cell_type": "markdown",
      "metadata": {
        "id": "9sk0xPXwav-P",
        "colab_type": "text"
      },
      "source": [
        "loading the data & removing irrelevent stuff"
      ]
    },
    {
      "cell_type": "code",
      "metadata": {
        "id": "cy2pGHgS1M6I",
        "colab_type": "code",
        "colab": {}
      },
      "source": [
        "data = pd.read_csv(\"text_emotion.csv\")\n",
        "\n",
        "data.drop(\"tweet_id\",axis=1,inplace=True)\n",
        "data.drop(\"author\",axis=1,inplace=True)"
      ],
      "execution_count": 41,
      "outputs": []
    },
    {
      "cell_type": "markdown",
      "metadata": {
        "id": "73ylJtjtkgfQ",
        "colab_type": "text"
      },
      "source": [
        "\n",
        "\n",
        "---\n",
        "\n"
      ]
    },
    {
      "cell_type": "markdown",
      "metadata": {
        "id": "udzfn-PLa1jM",
        "colab_type": "text"
      },
      "source": [
        "\n",
        "removing empty sentiments\n",
        "\n",
        "    As no roll of empty sentiments for our model\n",
        "    \n",
        "    \n",
        "    \n",
        "removing neutral sentiments\n",
        "\n",
        "    As data corresponging to neutral sentiments have lots of error it's better to remove such data\n",
        "        for e.g.:\n",
        "                for content \"im saaaaaaaaaaaaaad  i need someone to talk to\" \n",
        "                sentiment should be sad but it's given neutral \n",
        "    "
      ]
    },
    {
      "cell_type": "code",
      "metadata": {
        "id": "CtJoNhc4afGx",
        "colab_type": "code",
        "colab": {
          "base_uri": "https://localhost:8080/",
          "height": 219
        },
        "outputId": "986123ae-d5bb-4fcd-edb0-2317ef69921d"
      },
      "source": [
        "data.drop(data[data[\"sentiment\"] == \"empty\"].index, inplace=True)\n",
        "data.drop(data[data[\"sentiment\"] == \"neutral\"].index, inplace=True)\n",
        "\n",
        "print(data.shape)\n",
        "data.head()"
      ],
      "execution_count": 42,
      "outputs": [
        {
          "output_type": "stream",
          "text": [
            "(30535, 2)\n"
          ],
          "name": "stdout"
        },
        {
          "output_type": "execute_result",
          "data": {
            "text/html": [
              "<div>\n",
              "<style scoped>\n",
              "    .dataframe tbody tr th:only-of-type {\n",
              "        vertical-align: middle;\n",
              "    }\n",
              "\n",
              "    .dataframe tbody tr th {\n",
              "        vertical-align: top;\n",
              "    }\n",
              "\n",
              "    .dataframe thead th {\n",
              "        text-align: right;\n",
              "    }\n",
              "</style>\n",
              "<table border=\"1\" class=\"dataframe\">\n",
              "  <thead>\n",
              "    <tr style=\"text-align: right;\">\n",
              "      <th></th>\n",
              "      <th>sentiment</th>\n",
              "      <th>content</th>\n",
              "    </tr>\n",
              "  </thead>\n",
              "  <tbody>\n",
              "    <tr>\n",
              "      <th>0</th>\n",
              "      <td>happiness</td>\n",
              "      <td>@havingmysay  dude, that is my favorite sandwi...</td>\n",
              "    </tr>\n",
              "    <tr>\n",
              "      <th>2</th>\n",
              "      <td>hate</td>\n",
              "      <td>don't you hate it when you finish all your wor...</td>\n",
              "    </tr>\n",
              "    <tr>\n",
              "      <th>3</th>\n",
              "      <td>sadness</td>\n",
              "      <td>Layin n bed with a headache  ughhhh...waitin o...</td>\n",
              "    </tr>\n",
              "    <tr>\n",
              "      <th>4</th>\n",
              "      <td>worry</td>\n",
              "      <td>So i think my son might have the flu cause I d...</td>\n",
              "    </tr>\n",
              "    <tr>\n",
              "      <th>5</th>\n",
              "      <td>happiness</td>\n",
              "      <td>So great to see Oin &amp;amp; Cynthia.  So happy. ...</td>\n",
              "    </tr>\n",
              "  </tbody>\n",
              "</table>\n",
              "</div>"
            ],
            "text/plain": [
              "   sentiment                                            content\n",
              "0  happiness  @havingmysay  dude, that is my favorite sandwi...\n",
              "2       hate  don't you hate it when you finish all your wor...\n",
              "3    sadness  Layin n bed with a headache  ughhhh...waitin o...\n",
              "4      worry  So i think my son might have the flu cause I d...\n",
              "5  happiness  So great to see Oin &amp; Cynthia.  So happy. ..."
            ]
          },
          "metadata": {
            "tags": []
          },
          "execution_count": 42
        }
      ]
    },
    {
      "cell_type": "code",
      "metadata": {
        "id": "qD1GCwQVa8eD",
        "colab_type": "code",
        "colab": {
          "base_uri": "https://localhost:8080/",
          "height": 243
        },
        "outputId": "e23c8f3d-a6a0-4748-908a-89767d0303e0"
      },
      "source": [
        "data.groupby(['sentiment']).size()"
      ],
      "execution_count": 43,
      "outputs": [
        {
          "output_type": "execute_result",
          "data": {
            "text/plain": [
              "sentiment\n",
              "anger          110\n",
              "boredom        179\n",
              "enthusiasm     759\n",
              "fun           1776\n",
              "happiness     5209\n",
              "hate          1323\n",
              "love          3842\n",
              "relief        1526\n",
              "sadness       5165\n",
              "surprise      2187\n",
              "worry         8459\n",
              "dtype: int64"
            ]
          },
          "metadata": {
            "tags": []
          },
          "execution_count": 43
        }
      ]
    },
    {
      "cell_type": "markdown",
      "metadata": {
        "id": "A99HO-g2j9Rv",
        "colab_type": "text"
      },
      "source": [
        "\n",
        "\n",
        "---\n",
        "\n",
        "\n",
        "\n"
      ]
    },
    {
      "cell_type": "markdown",
      "metadata": {
        "id": "QmBo2Ed-bu0u",
        "colab_type": "text"
      },
      "source": [
        "Due to very small variations between some of emotions & some of error in data :                       (this improves accuracy)\n",
        "\n",
        "    it's better to combined such data\n",
        "    \n",
        "        e.g. \n",
        "             anger + boredom + hate = Disgust"
      ]
    },
    {
      "cell_type": "code",
      "metadata": {
        "id": "e5n68HBgbaAi",
        "colab_type": "code",
        "colab": {
          "base_uri": "https://localhost:8080/",
          "height": 202
        },
        "outputId": "579e03bf-1ed8-45f4-bbb0-8b368a213eff"
      },
      "source": [
        "# anger + boredom +hate = Disgust (1)\n",
        "# fun + enthusiasm + surprise = Interest (4)\n",
        "# relief + happiness + love= Happy (7)\n",
        "# worry + sadness = Sad(10)\n",
        "\n",
        "\n",
        "# neutral (REMOVED)\n",
        "\n",
        "\n",
        "encode = {\n",
        "    \"anger\": 1,\n",
        "    \"hate\":1, \n",
        "    \"boredom\":1,\n",
        "    \n",
        "    \"enthusiasm\":4,\n",
        "    \"fun\":4,\n",
        "    \"surprise\":4,\n",
        "    \n",
        "    \"happiness\":7,\n",
        "    \"relief\":7,\n",
        "    \"love\":7,\n",
        "\n",
        "    \"sadness\":10,\n",
        "    \"worry\":10,\n",
        "    \n",
        "    \"neutral\":12\n",
        "}\n",
        "data[\"sentiment\"] = data[\"sentiment\"].apply(lambda x:encode[x])\n",
        "data.head()"
      ],
      "execution_count": 44,
      "outputs": [
        {
          "output_type": "execute_result",
          "data": {
            "text/html": [
              "<div>\n",
              "<style scoped>\n",
              "    .dataframe tbody tr th:only-of-type {\n",
              "        vertical-align: middle;\n",
              "    }\n",
              "\n",
              "    .dataframe tbody tr th {\n",
              "        vertical-align: top;\n",
              "    }\n",
              "\n",
              "    .dataframe thead th {\n",
              "        text-align: right;\n",
              "    }\n",
              "</style>\n",
              "<table border=\"1\" class=\"dataframe\">\n",
              "  <thead>\n",
              "    <tr style=\"text-align: right;\">\n",
              "      <th></th>\n",
              "      <th>sentiment</th>\n",
              "      <th>content</th>\n",
              "    </tr>\n",
              "  </thead>\n",
              "  <tbody>\n",
              "    <tr>\n",
              "      <th>0</th>\n",
              "      <td>7</td>\n",
              "      <td>@havingmysay  dude, that is my favorite sandwi...</td>\n",
              "    </tr>\n",
              "    <tr>\n",
              "      <th>2</th>\n",
              "      <td>1</td>\n",
              "      <td>don't you hate it when you finish all your wor...</td>\n",
              "    </tr>\n",
              "    <tr>\n",
              "      <th>3</th>\n",
              "      <td>10</td>\n",
              "      <td>Layin n bed with a headache  ughhhh...waitin o...</td>\n",
              "    </tr>\n",
              "    <tr>\n",
              "      <th>4</th>\n",
              "      <td>10</td>\n",
              "      <td>So i think my son might have the flu cause I d...</td>\n",
              "    </tr>\n",
              "    <tr>\n",
              "      <th>5</th>\n",
              "      <td>7</td>\n",
              "      <td>So great to see Oin &amp;amp; Cynthia.  So happy. ...</td>\n",
              "    </tr>\n",
              "  </tbody>\n",
              "</table>\n",
              "</div>"
            ],
            "text/plain": [
              "   sentiment                                            content\n",
              "0          7  @havingmysay  dude, that is my favorite sandwi...\n",
              "2          1  don't you hate it when you finish all your wor...\n",
              "3         10  Layin n bed with a headache  ughhhh...waitin o...\n",
              "4         10  So i think my son might have the flu cause I d...\n",
              "5          7  So great to see Oin &amp; Cynthia.  So happy. ..."
            ]
          },
          "metadata": {
            "tags": []
          },
          "execution_count": 44
        }
      ]
    },
    {
      "cell_type": "markdown",
      "metadata": {
        "id": "AqUlSocckCUm",
        "colab_type": "text"
      },
      "source": [
        "\n",
        "\n",
        "---\n",
        "\n",
        "\n"
      ]
    },
    {
      "cell_type": "markdown",
      "metadata": {
        "id": "4oJDzG-MbCKW",
        "colab_type": "text"
      },
      "source": [
        "importing libraries for preprocessing of data"
      ]
    },
    {
      "cell_type": "code",
      "metadata": {
        "id": "fgcWc7Qqa_F_",
        "colab_type": "code",
        "colab": {
          "base_uri": "https://localhost:8080/",
          "height": 87
        },
        "outputId": "72e34118-b186-4527-ed22-89d348b64fa7"
      },
      "source": [
        "import re\n",
        "import nltk\n",
        "nltk.download('punkt')\n",
        "nltk.download('stopwords')\n",
        "# import emoji\n",
        "import string\n",
        "from nltk.tokenize import word_tokenize\n",
        "from nltk.corpus import stopwords\n",
        "from nltk.stem.porter import PorterStemmer"
      ],
      "execution_count": 45,
      "outputs": [
        {
          "output_type": "stream",
          "text": [
            "[nltk_data] Downloading package punkt to /root/nltk_data...\n",
            "[nltk_data]   Package punkt is already up-to-date!\n",
            "[nltk_data] Downloading package stopwords to /root/nltk_data...\n",
            "[nltk_data]   Package stopwords is already up-to-date!\n"
          ],
          "name": "stdout"
        }
      ]
    },
    {
      "cell_type": "markdown",
      "metadata": {
        "id": "saHvgqwKbLF4",
        "colab_type": "text"
      },
      "source": [
        "here data cleaning & preprocessing is being done\n",
        "\n",
        "    1. removing web links\n",
        "    2. replacing emojis (removing emojis is reducing the accuracy)\n",
        "    3. removing some of sort forms\n",
        "    4. removing punctuation marks\n",
        "    5. removing stop words (NO : reducing the accuracy )"
      ]
    },
    {
      "cell_type": "code",
      "metadata": {
        "id": "H-QRjtWSbFrv",
        "colab_type": "code",
        "colab": {
          "base_uri": "https://localhost:8080/",
          "height": 104
        },
        "outputId": "970e553f-a1fa-4329-976d-320435efe257"
      },
      "source": [
        "def clean_text(df):\n",
        "    all_reviews = list()\n",
        "    lines = df[\"content\"].values.tolist()\n",
        "    for text in lines:\n",
        "        text = text.lower()\n",
        "#         text = emoji.demojize(text)\n",
        "        pattern = re.compile('http[s]?://(?:[a-zA-Z]|[0-9]|[$-_@.&+]|[!*\\(\\),]|(?:%[0-9a-fA-F][0-9a-fA-F]))+')\n",
        "        text = pattern.sub('URL', text)\n",
        "        \n",
        "        emoji = re.compile(\"[\"\n",
        "                           u\"\\U0001F600-\\U0001FFFF\"  # emoticons\n",
        "                           u\"\\U0001F300-\\U0001F5FF\"  # symbols & pictographs\n",
        "                           u\"\\U0001F680-\\U0001F6FF\"  # transport & map symbols\n",
        "                           u\"\\U0001F1E0-\\U0001F1FF\"  # flags (iOS)\n",
        "                           u\"\\U00002702-\\U000027B0\"\n",
        "                           u\"\\U000024C2-\\U0001F251\"\n",
        "                           \"]+\", flags=re.UNICODE)\n",
        "        text = emoji.sub(r'emoji', text)\n",
        "        \n",
        "        text = re.sub(r\"i'm\", \"i am\", text)\n",
        "        text = re.sub(r\"he's\", \"he is\", text)\n",
        "        text = re.sub(r\"she's\", \"she is\", text)\n",
        "        text = re.sub(r\"that's\", \"that is\", text)        \n",
        "        text = re.sub(r\"what's\", \"what is\", text)\n",
        "        text = re.sub(r\"where's\", \"where is\", text) \n",
        "        text = re.sub(r\"\\'ll\", \" will\", text)  \n",
        "        text = re.sub(r\"\\'ve\", \" have\", text)  \n",
        "        text = re.sub(r\"\\'re\", \" are\", text)\n",
        "        text = re.sub(r\"\\'d\", \" would\", text)\n",
        "        text = re.sub(r\"\\'ve\", \" have\", text)\n",
        "        text = re.sub(r\"won't\", \"will not\", text)\n",
        "        text = re.sub(r\"don't\", \"do not\", text)\n",
        "        text = re.sub(r\"did't\", \"did not\", text)\n",
        "        text = re.sub(r\"can't\", \"can not\", text)\n",
        "        text = re.sub(r\"it's\", \"it is\", text)\n",
        "        text = re.sub(r\"couldn't\", \"could not\", text)\n",
        "        text = re.sub(r\"have't\", \"have not\", text)\n",
        "        text = re.sub(r'@\\w+', 'NAME', text)\n",
        "        text = re.sub(r\"\\n't\", \" not\", text)\n",
        "        \n",
        "        text = re.sub(r\"[,.\\\"@#$%^&*(){}/;`~:<>+=-]\", \"\", text)\n",
        "        tokens = word_tokenize(text)\n",
        "        table = str.maketrans('', '', string.punctuation)\n",
        "        stripped = [w.translate(table) for w in tokens]\n",
        "        words = [word for word in stripped if word.isalpha()]\n",
        "#         \n",
        "#         stop_words = set(stopwords.words(\"english\"))\n",
        "#         stop_words.discard(\"not\")\n",
        "#         words = [w for w in words if not w in stop_words]\n",
        "        \n",
        "        words = ' '.join(words)\n",
        "        all_reviews.append(words)\n",
        "    return all_reviews\n",
        "\n",
        "# df = pd.DataFrame([\"I'll suggest you to open https://www.google.com/ and search FUN game is on 🔥 🔥\"])\n",
        "# df.columns = [\"content\"]\n",
        "# cleaned_text = clean_text(df)\n",
        "# cleaned_text\n",
        "\n",
        "all_reviews = clean_text(data)\n",
        "all_reviews[0:5]"
      ],
      "execution_count": 46,
      "outputs": [
        {
          "output_type": "execute_result",
          "data": {
            "text/plain": [
              "['NAME dude that is my favorite sandwich place ever ummm did you take pictures',\n",
              " 'do not you hate it when you finish all your work and there s still hours left of work time',\n",
              " 'layin n bed with a headache ughhhhwaitin on your call',\n",
              " 'so i think my son might have the flu cause i def just cleaned up a stanky puke mess poor pumkpin',\n",
              " 'so great to see oin amp cynthia so happy dinner was great cute little place too bad oin got sick afterwards']"
            ]
          },
          "metadata": {
            "tags": []
          },
          "execution_count": 46
        }
      ]
    },
    {
      "cell_type": "markdown",
      "metadata": {
        "id": "dndbuL1Ecwpd",
        "colab_type": "text"
      },
      "source": [
        "---"
      ]
    },
    {
      "cell_type": "markdown",
      "metadata": {
        "id": "zImb1_y3cu3P",
        "colab_type": "text"
      },
      "source": [
        "it's time to vectorization"
      ]
    },
    {
      "cell_type": "code",
      "metadata": {
        "id": "I4oO-UsFb3Jv",
        "colab_type": "code",
        "colab": {
          "base_uri": "https://localhost:8080/",
          "height": 52
        },
        "outputId": "7ded05d8-ab4e-4336-dc5b-c26c10061d9e"
      },
      "source": [
        "# from sklearn.feature_extraction.text import CountVectorizer\n",
        "# V = CountVectorizer(min_df = 8)   \n",
        "\n",
        "from sklearn.feature_extraction.text import TfidfVectorizer\n",
        "V = TfidfVectorizer(min_df = 8)\n",
        "\n",
        "X = V.fit_transform(all_reviews).toarray()\n",
        "\n",
        "import pickle\n",
        "pickle.dump(V,open(\"tfidf1.pkl\",\"wb\"))               # Saving...\n",
        "\n",
        "y = data[\"sentiment\"]\n",
        "print(np.shape(X))\n",
        "print(np.shape(y))"
      ],
      "execution_count": 47,
      "outputs": [
        {
          "output_type": "stream",
          "text": [
            "(30535, 3141)\n",
            "(30535,)\n"
          ],
          "name": "stdout"
        }
      ]
    },
    {
      "cell_type": "markdown",
      "metadata": {
        "id": "nYrMjw70dIu-",
        "colab_type": "text"
      },
      "source": [
        "---"
      ]
    },
    {
      "cell_type": "markdown",
      "metadata": {
        "id": "eKqmZgOXc62a",
        "colab_type": "text"
      },
      "source": [
        "***Here onwards different models and their accuracies are mentioned***"
      ]
    },
    {
      "cell_type": "markdown",
      "metadata": {
        "id": "4Rq4ZynvdNvC",
        "colab_type": "text"
      },
      "source": [
        "## **DecisionTreeClassifier**"
      ]
    },
    {
      "cell_type": "code",
      "metadata": {
        "id": "10Q0oTAGc8io",
        "colab_type": "code",
        "colab": {
          "base_uri": "https://localhost:8080/",
          "height": 69
        },
        "outputId": "7243c5ab-216b-426c-e5be-954c2db809af"
      },
      "source": [
        "# from sklearn.model_selection import train_test_split\n",
        "# X_train, X_test, y_train, y_test = train_test_split(X, y, test_size = 0.22, random_state = 0)\n",
        "\n",
        "# from sklearn.tree import DecisionTreeClassifier\n",
        "# model = DecisionTreeClassifier(criterion=\"entropy\", random_state=41)\n",
        "\n",
        "\n",
        "# model.fit(X_train,y_train)\n",
        "\n",
        "# y_pred = model.predict(X_test)\n",
        "\n",
        "# from sklearn.metrics import accuracy_score, f1_score, precision_score\n",
        "\n",
        "# print(accuracy_score(y_test, y_pred))\n",
        "# print(f1_score(y_test, y_pred, average='weighted'))\n",
        "# print(precision_score(y_test, y_pred,average='weighted'))"
      ],
      "execution_count": 48,
      "outputs": [
        {
          "output_type": "stream",
          "text": [
            "0.4800535873771956\n",
            "0.4751089513059819\n",
            "0.470771451993154\n"
          ],
          "name": "stdout"
        }
      ]
    },
    {
      "cell_type": "markdown",
      "metadata": {
        "id": "OkIToMWPdcF-",
        "colab_type": "text"
      },
      "source": [
        "Outputs : \n",
        "          **DecisionTreeClassifier**\n",
        "\n",
        "            CountVectorizer\n",
        "\n",
        "                  accuracy_score    :  0.4901756475141411\n",
        "                  f1_score          :  0.4842023389421267\n",
        "                  precision_score   :  0.4791195973185888\n",
        "\n",
        "                  \n",
        "            TfidfVectorizer\n",
        "\n",
        "                  accuracy_score    :  0.4778207799940459\n",
        "                  f1_score          :  0.4720412527120386\n",
        "                  precision_score   :  0.4670470223722779"
      ]
    },
    {
      "cell_type": "markdown",
      "metadata": {
        "id": "TKNzPKb3eQvl",
        "colab_type": "text"
      },
      "source": [
        "## **MultinomialNB**"
      ]
    },
    {
      "cell_type": "code",
      "metadata": {
        "id": "PeicYUm7dYQg",
        "colab_type": "code",
        "colab": {
          "base_uri": "https://localhost:8080/",
          "height": 69
        },
        "outputId": "c9bf5954-4057-4b45-942c-6b5b873a873f"
      },
      "source": [
        "# from sklearn.model_selection import train_test_split\n",
        "# X_train, X_test, y_train, y_test = train_test_split(X, y, test_size = 0.22, random_state = 0)\n",
        "\n",
        "\n",
        "# from sklearn.naive_bayes import MultinomialNB\n",
        "# model = MultinomialNB()\n",
        "\n",
        "# model.fit(X_train,y_train)\n",
        "\n",
        "# y_pred = model.predict(X_test)\n",
        "\n",
        "# from sklearn.metrics import accuracy_score, f1_score, precision_score\n",
        "\n",
        "# print(accuracy_score(y_test, y_pred))\n",
        "# print(f1_score(y_test, y_pred, average='weighted'))\n",
        "# import warnings\n",
        "# warnings.filterwarnings('ignore')\n",
        "# print(precision_score(y_test, y_pred,average='weighted'))"
      ],
      "execution_count": 49,
      "outputs": [
        {
          "output_type": "stream",
          "text": [
            "0.6019648704971717\n",
            "0.5316937422548418\n",
            "0.5125385477392927\n"
          ],
          "name": "stdout"
        }
      ]
    },
    {
      "cell_type": "markdown",
      "metadata": {
        "id": "qd1kWAzAeoRe",
        "colab_type": "text"
      },
      "source": [
        "Outputs : **MultinomialNB**\n",
        "\n",
        "        CountVectorizer\n",
        " \n",
        "              accuracy_score    :  0.5913962488835963\n",
        "              f1_score          :  0.5665193028603359\n",
        "              precision_score   :  0.5577191344190713\n",
        " \n",
        " \n",
        "        TfidfVectorizer\n",
        " \n",
        "              accuracy_score    :  0.6019648704971717\n",
        "              f1_score          :  0.5314850706524067\n",
        "              precision_score   :  0.5123836343721758\n"
      ]
    },
    {
      "cell_type": "markdown",
      "metadata": {
        "id": "Vuaisu5VfqCF",
        "colab_type": "text"
      },
      "source": [
        "## **LogisticRegression**"
      ]
    },
    {
      "cell_type": "code",
      "metadata": {
        "id": "1DFxhj1IfmYd",
        "colab_type": "code",
        "colab": {
          "base_uri": "https://localhost:8080/",
          "height": 69
        },
        "outputId": "fee8d10f-15eb-4917-cfa7-e16cafbfe783"
      },
      "source": [
        "# from sklearn.model_selection import train_test_split\n",
        "# X_train, X_test, y_train, y_test = train_test_split(X, y, test_size = 0.22, random_state = 0)\n",
        "\n",
        "\n",
        "# from sklearn.linear_model import LogisticRegression \n",
        "# model = LogisticRegression(max_iter=1000000)\n",
        "\n",
        "# model.fit(X_train,y_train)\n",
        "\n",
        "# y_pred = model.predict(X_test)\n",
        "\n",
        "# from sklearn.metrics import accuracy_score, f1_score, precision_score\n",
        "\n",
        "# print(accuracy_score(y_test, y_pred))\n",
        "# print(f1_score(y_test, y_pred, average='weighted'))\n",
        "# print(precision_score(y_test, y_pred,average='weighted'))"
      ],
      "execution_count": 50,
      "outputs": [
        {
          "output_type": "stream",
          "text": [
            "0.611491515331944\n",
            "0.5674206298581278\n",
            "0.5757820324431019\n"
          ],
          "name": "stdout"
        }
      ]
    },
    {
      "cell_type": "markdown",
      "metadata": {
        "id": "D08qH6hqfv3N",
        "colab_type": "text"
      },
      "source": [
        "Outputs : **LogisticRegression**\n",
        "\n",
        "    CountVectorizer\n",
        " \n",
        "          accuracy_score    :  0.5949687406966359\n",
        "          f1_score          :  0.5628047013642141\n",
        "          precision_score   :  0.5530546186998219\n",
        " \n",
        " \n",
        "    TfidfVectorizer\n",
        " \n",
        "          accuracy_score    :  0.6122357844596606\n",
        "          f1_score          :  0.5680690841913283\n",
        "          precision_score   :  0.5778073438272063\n"
      ]
    },
    {
      "cell_type": "markdown",
      "metadata": {
        "id": "WWyjb1B9gMtN",
        "colab_type": "text"
      },
      "source": [
        "## **SGDClassifier**"
      ]
    },
    {
      "cell_type": "code",
      "metadata": {
        "id": "mc-HfuQJfvFQ",
        "colab_type": "code",
        "colab": {
          "base_uri": "https://localhost:8080/",
          "height": 87
        },
        "outputId": "161b6f35-694a-4b5d-8d35-86e0711338a2"
      },
      "source": [
        "from sklearn.model_selection import train_test_split\n",
        "X_train, X_test, y_train, y_test = train_test_split(X, y, test_size = 0.22, random_state = 0)\n",
        "\n",
        "\n",
        "from sklearn.linear_model import SGDClassifier \n",
        "model = SGDClassifier()\n",
        "\n",
        "model.fit(X_train,y_train)\n",
        "\n",
        "y_pred = model.predict(X_test)\n",
        "\n",
        "from sklearn.metrics import accuracy_score, f1_score, precision_score\n",
        "\n",
        "print(accuracy_score(y_test, y_pred))\n",
        "print(f1_score(y_test, y_pred, average='weighted'))\n",
        "print(precision_score(y_test, y_pred,average='weighted'))\n",
        "\n",
        "from joblib import dump, load\n",
        "dump(model, 'emotion.joblib') "
      ],
      "execution_count": 51,
      "outputs": [
        {
          "output_type": "stream",
          "text": [
            "0.6137243227150938\n",
            "0.5517728785984519\n",
            "0.5980294466094012\n"
          ],
          "name": "stdout"
        },
        {
          "output_type": "execute_result",
          "data": {
            "text/plain": [
              "['emotion.joblib']"
            ]
          },
          "metadata": {
            "tags": []
          },
          "execution_count": 51
        }
      ]
    },
    {
      "cell_type": "markdown",
      "metadata": {
        "id": "J2kiwFNsgVFG",
        "colab_type": "text"
      },
      "source": [
        "Outputs : **SGDClassifier**\n",
        "\n",
        "    CountVectorizer\n",
        "    \n",
        "          accuracy_score    :  0.6064304852634713\n",
        "          f1_score          :  0.5629850601936482\n",
        "          precision_score   :  0.5586409784503499\n",
        "          \n",
        "    TfidfVectorizer\n",
        "    \n",
        "          accuracy_score    :  0.6158082762727002\n",
        "          f1_score          :  0.5503867710468437\n",
        "          precision_score   :  0.5880493523520716\n"
      ]
    },
    {
      "cell_type": "markdown",
      "metadata": {
        "id": "B7Px797qhc9j",
        "colab_type": "text"
      },
      "source": [
        "---"
      ]
    },
    {
      "cell_type": "markdown",
      "metadata": {
        "id": "anuT0m7Jgys5",
        "colab_type": "text"
      },
      "source": [
        "# **Conclusion :**"
      ]
    },
    {
      "cell_type": "markdown",
      "metadata": {
        "id": "A7_bYNrPg_lv",
        "colab_type": "text"
      },
      "source": [
        "Among all above ML models SGDClassifier seems to best for our data \n",
        "\n",
        "it gives results upto :\n",
        "\n",
        "    SGDClassifier\n",
        "            \n",
        "          TfidfVectorizer\n",
        "        \n",
        "              accuracy_score  : 0.6158082762727002\n",
        "              f1_score        : 0.5503867710468437\n",
        "              precision_score : 0.5880493523520716"
      ]
    },
    {
      "cell_type": "markdown",
      "metadata": {
        "id": "cYt2VaBShflf",
        "colab_type": "text"
      },
      "source": [
        "---"
      ]
    },
    {
      "cell_type": "markdown",
      "metadata": {
        "id": "7dgHiZ61hWiN",
        "colab_type": "text"
      },
      "source": [
        "### ***it's time to check our model:***"
      ]
    },
    {
      "cell_type": "code",
      "metadata": {
        "id": "H4Csb9PvgUZq",
        "colab_type": "code",
        "colab": {
          "base_uri": "https://localhost:8080/",
          "height": 35
        },
        "outputId": "19312d9a-86ec-42bf-e901-baeeecc609f4"
      },
      "source": [
        "from joblib import dump, load\n",
        "import numpy as np\n",
        "model = load('emotion.joblib') \n",
        "\n",
        "import pickle\n",
        "V =  pickle.load(open(\"tfidf1.pkl\",\"rb\"))\n",
        "\n",
        "features = V.transform(['hurreeyyy.!!! i am feeling very happy after completing this project, I loved it']).toarray()\n",
        "\n",
        "mood = model.predict(features)[0]\n",
        "\n",
        "# anger + boredom +hate = Disgust (1)\n",
        "# fun + Enthu + surprise = Interest (4)\n",
        "# relief + happiness + love= Happy (7)\n",
        "# worry + sadness = Sad(10)\n",
        "\n",
        "\n",
        "if (mood == 1):\n",
        "    print(\"Disgust : anger / boredom / hate...\" )\n",
        "elif(mood == 4):\n",
        "    print(\"Interest : surprise / enthusiasm / fun\")\n",
        "elif(mood == 7):\n",
        "    print(\"Happy : happiness / love / relief\")\n",
        "else:\n",
        "    print(\"Sad : sadness / worry\")\n",
        "    "
      ],
      "execution_count": 52,
      "outputs": [
        {
          "output_type": "stream",
          "text": [
            "Happy : happiness / love / relief\n"
          ],
          "name": "stdout"
        }
      ]
    },
    {
      "cell_type": "markdown",
      "metadata": {
        "id": "nxCvpBLRhnQF",
        "colab_type": "text"
      },
      "source": [
        "\n",
        "\n",
        "---\n",
        "\n",
        "\n",
        "                                                           --- The End ---\n",
        "\n",
        "\n",
        "---\n",
        "\n",
        "\n",
        "\n"
      ]
    }
  ]
}